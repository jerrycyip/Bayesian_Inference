{
 "cells": [
  {
   "cell_type": "markdown",
   "metadata": {},
   "source": [
    "### Boston Housing Data\n",
    "\n",
    "In order to gain a better understanding of the metrics used in regression settings, we will be looking at the Boston Housing dataset.  \n",
    "\n",
    "First use the cell below to read in the dataset and set up the training and testing data that will be used for the rest of this problem."
   ]
  },
  {
   "cell_type": "code",
   "execution_count": 1,
   "metadata": {},
   "outputs": [],
   "source": [
    "from sklearn.datasets import load_boston\n",
    "from sklearn.model_selection import train_test_split\n",
    "import numpy as np\n",
    "import tests2 as t\n",
    "\n",
    "boston = load_boston()\n",
    "y = boston.target\n",
    "X = boston.data\n",
    "\n",
    "X_train, X_test, y_train, y_test = train_test_split(\n",
    "            X, y, test_size=0.33, random_state=42)"
   ]
  },
  {
   "cell_type": "markdown",
   "metadata": {},
   "source": [
    "> **Step 1:** Before we get too far, let's do a quick check of the models that you can use in this situation given that you are working on a regression problem.  Use the dictionary and corresponding letters below to provide all the possible models you might choose to use."
   ]
  },
  {
   "cell_type": "code",
   "execution_count": 4,
   "metadata": {},
   "outputs": [
    {
     "name": "stdout",
     "output_type": "stream",
     "text": [
      "That's right!  All but logistic regression can be used for predicting numeric values.  And linear regression is the only one of these that you should not use for predicting categories.  Technically sklearn won't stop you from doing most of anything you want, but you probably want to treat cases in the way you found by answering this question!\n"
     ]
    }
   ],
   "source": [
    "# When can you use the model - use each option as many times as necessary\n",
    "a = 'regression'\n",
    "b = 'classification'\n",
    "c = 'both regression and classification'\n",
    "\n",
    "models = {\n",
    "    'decision trees': c, # Letter here,\n",
    "    'random forest': c, # Letter here,\n",
    "    'adaptive boosting': c, # Letter here,\n",
    "    'logistic regression': b, # Letter here,\n",
    "    'linear regression': a # Letter here\n",
    "}\n",
    "\n",
    "#checks your answer, no need to change this code\n",
    "t.q1_check(models)"
   ]
  },
  {
   "cell_type": "markdown",
   "metadata": {},
   "source": [
    "> **Step 2:** Now for each of the models you found in the previous question that can be used for regression problems, import them using sklearn."
   ]
  },
  {
   "cell_type": "code",
   "execution_count": 13,
   "metadata": {},
   "outputs": [],
   "source": [
    "# Import models from sklearn - notice you will want to use \n",
    "# the regressor version (not classifier) - googling to find \n",
    "# each of these is what we all do!\n",
    "from sklearn.tree import DecisionTreeRegressor\n",
    "from sklearn.ensemble import RandomForestRegressor,AdaBoostRegressor\n",
    "from sklearn.linear_model import LinearRegression"
   ]
  },
  {
   "cell_type": "markdown",
   "metadata": {},
   "source": [
    "> **Step 3:** Now that you have imported the 4 models that can be used for regression problems, instantate each below."
   ]
  },
  {
   "cell_type": "code",
   "execution_count": 14,
   "metadata": {},
   "outputs": [],
   "source": [
    "# Instantiate each of the models you imported\n",
    "# For now use the defaults for all the hyperparameters\n",
    "tree_mod = DecisionTreeRegressor()\n",
    "rf_mod = RandomForestRegressor()\n",
    "ab_mod = AdaBoostRegressor()\n",
    "lr_mod = LinearRegression()"
   ]
  },
  {
   "cell_type": "markdown",
   "metadata": {},
   "source": [
    "> **Step 4:** Fit each of your instantiated models on the training data."
   ]
  },
  {
   "cell_type": "code",
   "execution_count": 15,
   "metadata": {},
   "outputs": [
    {
     "data": {
      "text/plain": [
       "LinearRegression(copy_X=True, fit_intercept=True, n_jobs=1, normalize=False)"
      ]
     },
     "execution_count": 15,
     "metadata": {},
     "output_type": "execute_result"
    }
   ],
   "source": [
    "# Fit each of your models using the training data\n",
    "tree_mod.fit(X_train, y_train)\n",
    "rf_mod.fit(X_train, y_train)\n",
    "ab_mod.fit(X_train, y_train)\n",
    "lr_mod.fit(X_train, y_train)"
   ]
  },
  {
   "cell_type": "markdown",
   "metadata": {},
   "source": [
    "> **Step 5:** Use each of your models to predict on the test data."
   ]
  },
  {
   "cell_type": "code",
   "execution_count": 37,
   "metadata": {},
   "outputs": [],
   "source": [
    "# Predict on the test values for each model\n",
    "preds_tree = tree_mod.predict(X_test)\n",
    "preds_rf = rf_mod.predict(X_test)\n",
    "preds_ab = ab_mod.predict(X_test)\n",
    "preds_lr = lr_mod.predict(X_test)"
   ]
  },
  {
   "cell_type": "markdown",
   "metadata": {},
   "source": [
    "> **Step 6:** Now for the information related to this lesson.  Use the dictionary to match the metrics that are used for regression and those that are for classification."
   ]
  },
  {
   "cell_type": "code",
   "execution_count": 24,
   "metadata": {},
   "outputs": [
    {
     "name": "stdout",
     "output_type": "stream",
     "text": [
      "That's right! Looks like you know your metrics!\n"
     ]
    }
   ],
   "source": [
    "# potential model options\n",
    "a = 'regression'\n",
    "b = 'classification'\n",
    "c = 'both regression and classification'\n",
    "\n",
    "#\n",
    "metrics = {\n",
    "    'precision': b, # Letter here,\n",
    "    'recall': b, # Letter here,\n",
    "    'accuracy': b, # Letter here,\n",
    "    'r2_score': a, # Letter here,\n",
    "    'mean_squared_error': a, # Letter here,\n",
    "    'area_under_curve': b, # Letter here, \n",
    "    'mean_absolute_area': a, # Letter here \n",
    "}\n",
    "\n",
    "#checks your answer, no need to change this code\n",
    "t.q6_check(metrics)"
   ]
  },
  {
   "cell_type": "markdown",
   "metadata": {},
   "source": [
    "> **Step 6:** Now that you have identified the metrics that can be used in for regression problems, use sklearn to import them."
   ]
  },
  {
   "cell_type": "code",
   "execution_count": 27,
   "metadata": {},
   "outputs": [],
   "source": [
    "# Import the metrics from sklearn\n",
    "from sklearn.metrics import mean_absolute_error, mean_squared_error, r2_score"
   ]
  },
  {
   "cell_type": "markdown",
   "metadata": {},
   "source": [
    "> **Step 7:** Similar to what you did with classification models, let's make sure you are comfortable with how exactly each of these metrics is being calculated.  We can then match the value to what sklearn provides."
   ]
  },
  {
   "cell_type": "code",
   "execution_count": 28,
   "metadata": {},
   "outputs": [
    {
     "name": "stdout",
     "output_type": "stream",
     "text": [
      "0.736316820591\n",
      "0.736316820591\n",
      "Since the above match, we can see that we have correctly calculated the r2 value.\n"
     ]
    }
   ],
   "source": [
    "def r2(actual, preds):\n",
    "    '''\n",
    "    INPUT:\n",
    "    actual - numpy array or pd series of actual y values\n",
    "    preds - numpy array or pd series of predicted y values\n",
    "    OUTPUT:\n",
    "    returns the r-squared score as a float\n",
    "    '''\n",
    "    sse = np.sum((actual-preds)**2)\n",
    "    sst = np.sum((actual-np.mean(actual))**2)\n",
    "    return 1 - sse/sst\n",
    "\n",
    "# Check solution matches sklearn\n",
    "print(r2(y_test, preds_tree))\n",
    "print(r2_score(y_test, preds_tree))\n",
    "print(\"Since the above match, we can see that we have correctly calculated the r2 value.\")"
   ]
  },
  {
   "cell_type": "markdown",
   "metadata": {},
   "source": [
    "> **Step 8:** Your turn fill in the function below and see if your result matches the built in for mean_squared_error. "
   ]
  },
  {
   "cell_type": "code",
   "execution_count": 29,
   "metadata": {},
   "outputs": [
    {
     "name": "stdout",
     "output_type": "stream",
     "text": [
      "19.9551497006\n"
     ]
    }
   ],
   "source": [
    "print(mean_squared_error(y_test, preds_tree))\n"
   ]
  },
  {
   "cell_type": "code",
   "execution_count": 30,
   "metadata": {},
   "outputs": [
    {
     "name": "stdout",
     "output_type": "stream",
     "text": [
      "19.9551497006\n",
      "19.9551497006\n",
      "If the above match, you are all set!\n"
     ]
    }
   ],
   "source": [
    "def mse(actual, preds):\n",
    "    '''\n",
    "    INPUT:\n",
    "    actual - numpy array or pd series of actual y values\n",
    "    preds - numpy array or pd series of predicted y values\n",
    "    OUTPUT:\n",
    "    returns the mean squared error as a float\n",
    "    '''\n",
    "    sse = np.sum((actual-preds)**2) #sum of squared errors\n",
    "    mse = sse/len(actual) #mean of sum of squared errors (divide by number of values)\n",
    "    return mse # calculate mse here\n",
    "\n",
    "\n",
    "# Check your solution matches sklearn\n",
    "print(mse(y_test, preds_tree))\n",
    "print(mean_squared_error(y_test, preds_tree))\n",
    "print(\"If the above match, you are all set!\")"
   ]
  },
  {
   "cell_type": "markdown",
   "metadata": {},
   "source": [
    "> **Step 9:** Now one last time - complete the function related to mean absolute error.  Then check your function against the sklearn metric to assure they match. "
   ]
  },
  {
   "cell_type": "code",
   "execution_count": 31,
   "metadata": {},
   "outputs": [
    {
     "name": "stdout",
     "output_type": "stream",
     "text": [
      "3.14191616766\n",
      "3.14191616766\n",
      "If the above match, you are all set!\n"
     ]
    }
   ],
   "source": [
    "def mae(actual, preds):\n",
    "    '''\n",
    "    INPUT:\n",
    "    actual - numpy array or pd series of actual y values\n",
    "    preds - numpy array or pd series of predicted y values\n",
    "    OUTPUT:\n",
    "    returns the mean absolute error as a float\n",
    "    '''\n",
    "    sae = np.sum(abs(actual-preds)) #sum of absolute errors\n",
    "    mae = sae/len(actual) #mean of absolute errors (divide by number of values)\n",
    "    return mae # calculate the mae here\n",
    "\n",
    "# Check your solution matches sklearn\n",
    "print(mae(y_test, preds_tree))\n",
    "print(mean_absolute_error(y_test, preds_tree))\n",
    "print(\"If the above match, you are all set!\")"
   ]
  },
  {
   "cell_type": "markdown",
   "metadata": {},
   "source": [
    "> **Step 10:** Which model performed the best in terms of each of the metrics?  Note that r2 and mse will always match, but the mae may give a different best model.  Use the dictionary and space below to match the best model via each metric."
   ]
  },
  {
   "cell_type": "code",
   "execution_count": 43,
   "metadata": {},
   "outputs": [
    {
     "name": "stdout",
     "output_type": "stream",
     "text": [
      "mean_absolute_error for DecisionTreeRegressor is 3.1419161676646707\n",
      "mean_squared_error for DecisionTreeRegressor is 19.955149700598803\n",
      "r2_score for DecisionTreeRegressor is 0.736316820590821 \n",
      "\n",
      "mean_absolute_error for RandomForestRegressor is 2.3308982035928145\n",
      "mean_squared_error for RandomForestRegressor is 11.56836646706587\n",
      "r2_score for RandomForestRegressor is 0.8471380221960988 \n",
      "\n",
      "mean_absolute_error for AdaBoostRegressor is 2.6254745151991035\n",
      "mean_squared_error for AdaBoostRegressor is 14.970269986682963\n",
      "r2_score for AdaBoostRegressor is 0.8021859797632127 \n",
      "\n",
      "mean_absolute_error for LinearRegression is 3.1512878365883963\n",
      "mean_squared_error for LinearRegression is 20.74714336030895\n",
      "r2_score for LinearRegression is 0.7258515818230048 \n",
      "\n"
     ]
    }
   ],
   "source": [
    "def reg_metrics(mod, actual, preds):\n",
    "    print(\"mean_absolute_error for {} is {}\".format(mod, mean_absolute_error(actual, preds)))\n",
    "    print(\"mean_squared_error for {} is {}\".format(mod, mean_squared_error(actual, preds)))\n",
    "    print(\"r2_score for {} is {} \\n\".format(mod, r2_score(actual, preds)))\n",
    "    \n",
    "reg_metrics('DecisionTreeRegressor', y_test, preds_tree)\n",
    "reg_metrics('RandomForestRegressor', y_test, preds_rf)\n",
    "reg_metrics('AdaBoostRegressor', y_test, preds_ab)\n",
    "reg_metrics('LinearRegression', y_test, preds_lr)"
   ]
  },
  {
   "cell_type": "code",
   "execution_count": 44,
   "metadata": {},
   "outputs": [
    {
     "name": "stdout",
     "output_type": "stream",
     "text": [
      "That's right!  The random forest was best in terms of all the metrics this time!\n"
     ]
    }
   ],
   "source": [
    "#match each metric to the model that performed best on it\n",
    "a = 'decision tree'\n",
    "b = 'random forest'\n",
    "c = 'adaptive boosting'\n",
    "d = 'linear regression'\n",
    "\n",
    "\n",
    "best_fit = {\n",
    "    'mse': b, # letter here,\n",
    "    'r2': b, # letter here,\n",
    "    'mae': b, # letter here\n",
    "}\n",
    "\n",
    "#Tests your answer - don't change this code\n",
    "t.check_ten(best_fit)"
   ]
  },
  {
   "cell_type": "code",
   "execution_count": null,
   "metadata": {},
   "outputs": [],
   "source": []
  }
 ],
 "metadata": {
  "kernelspec": {
   "display_name": "Python 3",
   "language": "python",
   "name": "python3"
  },
  "language_info": {
   "codemirror_mode": {
    "name": "ipython",
    "version": 3
   },
   "file_extension": ".py",
   "mimetype": "text/x-python",
   "name": "python",
   "nbconvert_exporter": "python",
   "pygments_lexer": "ipython3",
   "version": "3.6.3"
  }
 },
 "nbformat": 4,
 "nbformat_minor": 2
}
